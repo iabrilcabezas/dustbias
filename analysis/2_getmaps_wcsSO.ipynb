{
 "cells": [
  {
   "cell_type": "code",
   "execution_count": 1,
   "id": "07058e1e-2ebd-48a8-952b-6932e86c56bc",
   "metadata": {},
   "outputs": [
    {
     "name": "stderr",
     "output_type": "stream",
     "text": [
      "--------------------------------------------------------------------------\n",
      "WARNING: There was an error initializing an OpenFabrics device.\n",
      "\n",
      "  Local host:   cpu-q-346\n",
      "  Local device: mlx5_0\n",
      "--------------------------------------------------------------------------\n"
     ]
    }
   ],
   "source": [
    "import pysm3\n",
    "import argparse\n",
    "from pixell import curvedsky as cs, reproject, enmap\n",
    "import numpy as np\n",
    "import healpy as hp\n",
    "import pickle\n",
    "import pysm3.units as u\n",
    "import os\n",
    "import gc\n",
    "from solenspipe.utility import w_n"
   ]
  },
  {
   "cell_type": "code",
   "execution_count": 2,
   "id": "5980982b-c87a-4153-9cf2-f8316558cab2",
   "metadata": {},
   "outputs": [],
   "source": [
    "args = argparse.Namespace()\n",
    "\n",
    "args.mlmax=4000\n",
    "args.nside=2048"
   ]
  },
  {
   "cell_type": "code",
   "execution_count": 3,
   "id": "8f16ddfd-de12-409b-b170-0b79258347de",
   "metadata": {},
   "outputs": [],
   "source": [
    "ell = np.arange(args.mlmax+1)\n",
    "lfac = ell * (ell + 1) / (2 * np.pi)"
   ]
  },
  {
   "cell_type": "code",
   "execution_count": 4,
   "id": "838bf18b-d5f6-42d0-9ad1-a857a59cbe61",
   "metadata": {},
   "outputs": [],
   "source": [
    "pysm_str = {'d9': ['d9'],\n",
    "            'd10': ['d10'],\n",
    "            'd12': ['d12'],\n",
    "            's4': ['s4'],\n",
    "            's5': ['s5'],\n",
    "            's7': ['s7'],\n",
    "            'low':['d9', 's4'],\n",
    "            'medium':['d10', 's5'],\n",
    "            'high': ['d12','s7']\n",
    "           }"
   ]
  },
  {
   "cell_type": "code",
   "execution_count": 5,
   "id": "3f32fada-87fc-4080-94d7-0bec3b7858b9",
   "metadata": {},
   "outputs": [],
   "source": [
    "ACT_FREQ = [90, 150]\n",
    "SO_FREQ = [27,39,93,145,225,280]"
   ]
  },
  {
   "cell_type": "markdown",
   "id": "3c88212b-5efd-47bd-a1d2-429b8ef31b26",
   "metadata": {},
   "source": [
    "## load masks\n",
    "\n",
    "and compute w-n factors"
   ]
  },
  {
   "cell_type": "code",
   "execution_count": 6,
   "id": "079f8d6f-82d6-4b8d-9f3b-941ba8c51af2",
   "metadata": {},
   "outputs": [],
   "source": [
    "ACT_masks = {}\n",
    "SO_masks = {}\n",
    "\n",
    "# ACT_masks['GAL060'] = enmap.read_map('/rds/project/dirac_vol5/rds-dirac-dp002/ia404/fgs/masks/ACT_GAL060_wcsACT_car_apo3deg.fits')\n",
    "# ACT_masks['GAL070'] = enmap.read_map('/rds/project/dirac_vol5/rds-dirac-dp002/ia404/fgs/masks/ACT_GAL070_wcsACT_car_apo3deg.fits')\n",
    "# ACT_masks['GAL080'] = enmap.read_map('/rds/project/dirac_vol5/rds-dirac-dp002/ia404/fgs/masks/ACT_GAL080_wcsACT_car_apo3deg.fits')\n",
    "SO_masks['GAL070'] = enmap.read_map('/rds/project/dirac_vol5/rds-dirac-dp002/ia404/fgs/masks/SOLAT_GAL070_wcsSO_car_apo3deg.fits')\n",
    "SO_masks['GAL080'] = enmap.read_map('/rds/project/dirac_vol5/rds-dirac-dp002/ia404/fgs/masks/SOLAT_GAL080_wcsSO_car_apo3deg.fits')"
   ]
  },
  {
   "cell_type": "code",
   "execution_count": 7,
   "id": "28c7ecd9-95f6-4940-b61b-cd39c98d1eaf",
   "metadata": {},
   "outputs": [],
   "source": [
    "args.shape, args.wcs = SO_masks['GAL070'].shape, SO_masks['GAL070'].wcs"
   ]
  },
  {
   "cell_type": "code",
   "execution_count": 8,
   "id": "b3819a4b-0a06-47c3-9838-87d012caddcf",
   "metadata": {},
   "outputs": [],
   "source": [
    "masks = {'ACT': ACT_masks, 'SO': SO_masks}"
   ]
  },
  {
   "cell_type": "code",
   "execution_count": 9,
   "id": "490be4f7-4db0-4d51-9ad9-cce7ff059e1f",
   "metadata": {},
   "outputs": [
    {
     "name": "stdout",
     "output_type": "stream",
     "text": [
      "fsky SO GAL070 0.429\n",
      "fsky SO GAL080 0.495\n"
     ]
    }
   ],
   "source": [
    "for key in masks.keys():\n",
    "    if key == 'ACT':\n",
    "        continue\n",
    "    for fsky in masks[key].keys():\n",
    "        print(f'fsky {key} {fsky} {w_n(masks[key][fsky],1):.3f}')"
   ]
  },
  {
   "cell_type": "code",
   "execution_count": 10,
   "id": "11a0b125-a2f2-495d-baea-c2f12d8800aa",
   "metadata": {},
   "outputs": [],
   "source": [
    "w2_factors = {}\n",
    "for key in masks.keys():\n",
    "    if key == 'ACT':\n",
    "        continue\n",
    "    for fsky in masks[key].keys():\n",
    "        w2_factors[f'{key}_{fsky}'] = w_n(masks[key][fsky],2)"
   ]
  },
  {
   "cell_type": "code",
   "execution_count": 11,
   "id": "8204f296-22b7-47a0-a3da-71d68cfc3bd9",
   "metadata": {},
   "outputs": [],
   "source": [
    "def get_sky_model(args, str_fg):\n",
    "    \n",
    "    '''\n",
    "        args.nside: 2048 \n",
    "        args.freq: \n",
    "    '''\n",
    "    \n",
    "    sky_dust = pysm3.Sky(nside=args.nside, preset_strings=list(str_fg))\n",
    "    map_freqGHz = sky_dust.get_emission(args.freq * u.GHz)\n",
    "    sky_hp_maps = map_freqGHz.to(u.uK_CMB, equivalencies=u.cmb_equivalencies(args.freq*u.GHz))\n",
    "    \n",
    "    return sky_hp_maps\n",
    "\n",
    "def sky_model_car(mapa, args):\n",
    "    '''\n",
    "        args.shape\n",
    "        args.wcs\n",
    "        args.mlmax\n",
    "    '''\n",
    "    \n",
    "    car_map = reproject.healpix2map(mapa, args.shape, args.wcs, lmax = args.mlmax, rot=\"gal,cel\")\n",
    "    \n",
    "    return car_map\n",
    "\n",
    "\n",
    "def get_2pt_car(mapa, mask, w2, args):\n",
    "    \n",
    "    fg_alm = cs.map2alm(mapa * mask, lmax=args.mlmax)\n",
    "    cl_2pts = cs.alm2cl(fg_alm) / w2\n",
    "    \n",
    "    return cl_2pts"
   ]
  },
  {
   "cell_type": "code",
   "execution_count": 12,
   "id": "b2b3854d-4fb5-432b-af6e-ec13290bf6eb",
   "metadata": {},
   "outputs": [],
   "source": [
    "def get_map_name(fgkey, sim_id, fsky=None):\n",
    "    tag = f'{fgkey}_{sim_id}'\n",
    "    if fsky is not None:\n",
    "        tag = f'{tag}_{fsky}'\n",
    "    return f'map_car_{tag}_IQU.fits'"
   ]
  },
  {
   "cell_type": "code",
   "execution_count": 13,
   "id": "b144669e-dfc7-40bf-b635-a74ebf51ae6f",
   "metadata": {},
   "outputs": [],
   "source": [
    "args.output_dir = '/rds/project/dirac_vol5/rds-dirac-dp002/ia404/fgs/rawmaps_250103_wcsSO/'\n",
    "output_path = lambda x: os.path.join(args.output_dir, x)"
   ]
  },
  {
   "cell_type": "code",
   "execution_count": 14,
   "id": "1f95b867-da75-42ac-b4aa-9af807437acc",
   "metadata": {},
   "outputs": [],
   "source": [
    "cl_2pts = {}"
   ]
  },
  {
   "cell_type": "code",
   "execution_count": 15,
   "id": "cb1d150c-3034-477d-9027-de78a80ead15",
   "metadata": {},
   "outputs": [],
   "source": [
    "# exp='ACT'\n",
    "# fsky = 'GAL070'\n",
    "# for freq in ACT_FREQ:\n",
    "#     args.freq = freq\n",
    "#     for fg_type in pysm_str.keys():\n",
    "#         key = f'{args.freq}_{fg_type}'\n",
    "#         print(key)\n",
    "#         hp_map = get_sky_model(args, pysm_str[fg_type])\n",
    "#         car_map = sky_model_car(hp_map, args)\n",
    "#         enmap.write_map(output_path(get_map_name(key, sim_id=1000)), car_map )\n",
    "#         cl_2pts[f'{exp}_{key}_{fsky}'] = get_2pt_car(car_map, masks[exp][fsky], w2_factors[f'{exp}_{fsky}'], args)\n",
    "        \n",
    "#     del hp_map, car_map\n",
    "#     gc.collect()"
   ]
  },
  {
   "cell_type": "code",
   "execution_count": null,
   "id": "cb138b58-b274-489e-a55b-974b38afed7e",
   "metadata": {},
   "outputs": [],
   "source": []
  },
  {
   "cell_type": "code",
   "execution_count": 16,
   "id": "28fa5738-e2f3-4784-81f8-a807861c4670",
   "metadata": {},
   "outputs": [
    {
     "name": "stdout",
     "output_type": "stream",
     "text": [
      "27_d9\n",
      "27_d10\n",
      "27_d12\n",
      "27_s4\n",
      "27_s5\n",
      "27_s7\n",
      "27_low\n",
      "27_medium\n",
      "27_high\n",
      "39_d9\n",
      "39_d10\n",
      "39_d12\n",
      "39_s4\n",
      "39_s5\n",
      "39_s7\n",
      "39_low\n",
      "39_medium\n",
      "39_high\n",
      "93_d9\n",
      "93_d10\n",
      "93_d12\n",
      "93_s4\n",
      "93_s5\n",
      "93_s7\n",
      "93_low\n",
      "93_medium\n",
      "93_high\n",
      "145_d9\n",
      "145_d10\n",
      "145_d12\n",
      "145_s4\n",
      "145_s5\n",
      "145_s7\n",
      "145_low\n",
      "145_medium\n",
      "145_high\n",
      "225_d9\n",
      "225_d10\n",
      "225_d12\n",
      "225_s4\n",
      "225_s5\n",
      "225_s7\n",
      "225_low\n",
      "225_medium\n",
      "225_high\n",
      "280_d9\n",
      "280_d10\n",
      "280_d12\n",
      "280_s4\n",
      "280_s5\n",
      "280_s7\n",
      "280_low\n",
      "280_medium\n",
      "280_high\n"
     ]
    }
   ],
   "source": [
    "exp='SO'\n",
    "fsky = 'GAL070'\n",
    "for freq in SO_FREQ:\n",
    "    args.freq = freq\n",
    "    for fg_type in pysm_str.keys():\n",
    "        key = f'{args.freq}_{fg_type}'\n",
    "        print(key)\n",
    "        hp_map = get_sky_model(args, pysm_str[fg_type])\n",
    "        car_map = sky_model_car(hp_map, args)\n",
    "        enmap.write_map(output_path(get_map_name(key, sim_id=1000)), car_map )\n",
    "        cl_2pts[f'{exp}_{key}_{fsky}'] = get_2pt_car(car_map, masks[exp][fsky], w2_factors[f'{exp}_{fsky}'], args)\n",
    "        \n",
    "    del hp_map, car_map\n",
    "    gc.collect()"
   ]
  },
  {
   "cell_type": "code",
   "execution_count": 17,
   "id": "49d86f54-77d8-42b6-b93d-19bb05493fc2",
   "metadata": {},
   "outputs": [],
   "source": [
    "with open(args.output_dir + '/raw2pts_GAL070_SO.pkl', 'wb') as f:\n",
    "    pickle.dump(cl_2pts, f)"
   ]
  },
  {
   "cell_type": "code",
   "execution_count": null,
   "id": "aee80939-c03a-4615-8361-228f066faa54",
   "metadata": {},
   "outputs": [],
   "source": []
  },
  {
   "cell_type": "code",
   "execution_count": null,
   "id": "84e5c0da-3455-4fdc-a3e6-43d6e89e9a6a",
   "metadata": {},
   "outputs": [],
   "source": []
  },
  {
   "cell_type": "markdown",
   "id": "1038d3b7-1634-46db-8cc2-6aed6086d775",
   "metadata": {},
   "source": [
    "## DustFilaments"
   ]
  },
  {
   "cell_type": "code",
   "execution_count": 18,
   "id": "0c3e5f3f-ed24-43db-b9f8-4bc2778f5455",
   "metadata": {},
   "outputs": [],
   "source": [
    "df_path = '/rds/project/dirac_vol5/rds-dirac-dp002/ia404/fgs/dust_sims/'"
   ]
  },
  {
   "cell_type": "code",
   "execution_count": 19,
   "id": "11d8d54b-e6bb-492b-82ca-690a4dbcfe86",
   "metadata": {},
   "outputs": [],
   "source": [
    "DF_EB0_path = df_path + 'DustFilaments_TQU_45M_400pc_SOLAT_Dust-gnilc-unires-limit50-sigmatheta14_nside2048_baseline_seed0000_AllScaleMap_f353p0.fits'\n",
    "DF_EB_path = df_path + 'DustFilaments_TQU_45M_400pc_SOLAT_Dust-gnilc-unires-limit50-sigmatheta14_nside2048_ALD_fiducial_seed0000_AllScaleMap_f353p0.fits'"
   ]
  },
  {
   "cell_type": "code",
   "execution_count": 20,
   "id": "9546c5cb-5050-44f7-b302-58e763f7306c",
   "metadata": {},
   "outputs": [],
   "source": [
    "sky_hp_maps = {'DF_EB0': hp.read_map(DF_EB0_path, field=(0,1,2)),\n",
    "               'DF_EB': hp.read_map(DF_EB_path, field=(0,1,2))}"
   ]
  },
  {
   "cell_type": "code",
   "execution_count": 21,
   "id": "c1e22d1f-a4e9-46fa-abda-dab3a351d03b",
   "metadata": {},
   "outputs": [],
   "source": [
    "# extrapolation other freqs with Carlos' code"
   ]
  },
  {
   "cell_type": "code",
   "execution_count": 22,
   "id": "ed03da41-8613-4880-bb8a-14f1d730967e",
   "metadata": {},
   "outputs": [],
   "source": [
    "H_PLANCK = 6.6260755e-34\n",
    "K_BOLTZ = 1.380658e-23\n",
    "T_CMB = 2.72548\n",
    "def thermo2rj(nu):\n",
    "    x = H_PLANCK*nu*1.e9/(K_BOLTZ*T_CMB)\n",
    "    return x**2 * np.exp(x) / (np.expm1(x))**2\n",
    "def sed_dust(nu, beta, Tdust):\n",
    "    x_353 = H_PLANCK*353e9/(K_BOLTZ*Tdust)\n",
    "    x_nu = H_PLANCK*nu*1e9/(K_BOLTZ*Tdust)\n",
    "    sed_fact_353 = (353e9)**(beta+1) / np.expm1(x_353) / thermo2rj(353.0)\n",
    "    sed_fact_nu  = (nu * 1e9)**(beta+1) / np.expm1(x_nu) / thermo2rj(nu)\n",
    "    return sed_fact_nu / sed_fact_353"
   ]
  },
  {
   "cell_type": "code",
   "execution_count": 23,
   "id": "f36457f2-4adb-4272-8a42-963864bb0e54",
   "metadata": {},
   "outputs": [],
   "source": [
    "beta_map = hp.read_map('/rds/project/dirac_vol5/rds-dirac-dp002/ia404/fgs/Planck/COM_CompMap_Dust-GNILC-Model-Spectral-Index_2048_R2.00.fits')\n",
    "Tdust_map = hp.read_map('/rds/project/dirac_vol5/rds-dirac-dp002/ia404/fgs/Planck/COM_CompMap_Dust-GNILC-Model-Temperature_2048_R2.00.fits')"
   ]
  },
  {
   "cell_type": "code",
   "execution_count": 26,
   "id": "9a5b9fd3-3e2c-4a4e-a524-986a318e49d0",
   "metadata": {},
   "outputs": [
    {
     "name": "stderr",
     "output_type": "stream",
     "text": [
      "/tmp/ipykernel_2897908/1962930133.py:10: RuntimeWarning: overflow encountered in power\n",
      "  sed_fact_353 = (353e9)**(beta+1) / np.expm1(x_353) / thermo2rj(353.0)\n",
      "/tmp/ipykernel_2897908/1962930133.py:10: RuntimeWarning: overflow encountered in divide\n",
      "  sed_fact_353 = (353e9)**(beta+1) / np.expm1(x_353) / thermo2rj(353.0)\n",
      "/tmp/ipykernel_2897908/1962930133.py:11: RuntimeWarning: overflow encountered in divide\n",
      "  sed_fact_nu  = (nu * 1e9)**(beta+1) / np.expm1(x_nu) / thermo2rj(nu)\n",
      "/tmp/ipykernel_2897908/1962930133.py:12: RuntimeWarning: invalid value encountered in divide\n",
      "  return sed_fact_nu / sed_fact_353\n",
      "/tmp/ipykernel_2897908/1962930133.py:11: RuntimeWarning: overflow encountered in power\n",
      "  sed_fact_nu  = (nu * 1e9)**(beta+1) / np.expm1(x_nu) / thermo2rj(nu)\n"
     ]
    }
   ],
   "source": [
    "sed_factor = {}\n",
    "\n",
    "for freq in SO_FREQ:\n",
    "    sed_factor[freq] = np.nan_to_num(sed_dust(freq, beta_map, Tdust_map))"
   ]
  },
  {
   "cell_type": "code",
   "execution_count": 27,
   "id": "8191fedd-aba2-4924-84d8-461fef2edb9d",
   "metadata": {},
   "outputs": [
    {
     "name": "stdout",
     "output_type": "stream",
     "text": [
      "27\n",
      "39\n",
      "93\n",
      "145\n",
      "225\n",
      "280\n"
     ]
    }
   ],
   "source": [
    "assert np.isfinite(beta_map).all()\n",
    "assert np.isfinite(Tdust_map).all()\n",
    "for freq in SO_FREQ:\n",
    "    print(freq)\n",
    "    assert np.isfinite(sed_factor[freq]).all()\n",
    "    "
   ]
  },
  {
   "cell_type": "code",
   "execution_count": 28,
   "id": "072ce461-4136-423d-b80b-dd878fc6e91f",
   "metadata": {},
   "outputs": [],
   "source": [
    "sky_hp_maps_freq = {}\n",
    "\n",
    "for key in sky_hp_maps.keys():\n",
    "    for freq in SO_FREQ:\n",
    "        sky_hp_maps_freq[f'{freq}_{key}'] = sky_hp_maps[key] * sed_factor[freq]"
   ]
  },
  {
   "cell_type": "code",
   "execution_count": 29,
   "id": "f9e88b28-aa42-48c3-86b4-ade880541ec2",
   "metadata": {},
   "outputs": [
    {
     "name": "stdout",
     "output_type": "stream",
     "text": [
      "27_DF_EB0\n",
      "39_DF_EB0\n",
      "93_DF_EB0\n",
      "145_DF_EB0\n",
      "225_DF_EB0\n",
      "280_DF_EB0\n",
      "27_DF_EB\n",
      "39_DF_EB\n",
      "93_DF_EB\n",
      "145_DF_EB\n",
      "225_DF_EB\n",
      "280_DF_EB\n"
     ]
    }
   ],
   "source": [
    "sky_car_maps_freq = {}\n",
    "for key in sky_hp_maps_freq.keys():\n",
    "    print(key)\n",
    "    sky_car_maps_freq[key] = sky_model_car(sky_hp_maps_freq[key], args)"
   ]
  },
  {
   "cell_type": "code",
   "execution_count": 30,
   "id": "f34cb0d6-314c-47eb-b8fe-57df7764e096",
   "metadata": {},
   "outputs": [],
   "source": [
    "for key in sky_car_maps_freq.keys():\n",
    "    enmap.write_map(output_path(get_map_name(key, sim_id=1000)), sky_car_maps_freq[key])"
   ]
  },
  {
   "cell_type": "code",
   "execution_count": 31,
   "id": "8055ca92-06bf-4c17-ad43-5d7daf95e8bd",
   "metadata": {},
   "outputs": [],
   "source": [
    "# exp = 'ACT'\n",
    "# fsky = 'GAL070'\n",
    "# for key in sky_car_maps_freq.keys():\n",
    "#     cl_2pts[f'{exp}_{freq}_{fsky}'] = get_2pt_car(sky_car_maps_freq[key], masks[exp][fsky], w2_factors[f'{exp}_{fsky}'], args)"
   ]
  },
  {
   "cell_type": "code",
   "execution_count": 32,
   "id": "53e40e4c-9f85-4490-bfdf-9cb030ba93c3",
   "metadata": {},
   "outputs": [],
   "source": [
    "exp = 'SO'\n",
    "fsky = 'GAL070'\n",
    "for key in sky_car_maps_freq.keys():\n",
    "    cl_2pts[f'{exp}_{key}_{fsky}'] = get_2pt_car(sky_car_maps_freq[key], masks[exp][fsky], w2_factors[f'{exp}_{fsky}'], args)"
   ]
  },
  {
   "cell_type": "code",
   "execution_count": 33,
   "id": "0ff9bcf3-1e0b-4126-9312-6c94333795a2",
   "metadata": {},
   "outputs": [],
   "source": [
    "with open(args.output_dir + '/raw2pts_GAL070_SO_pysmDF.pkl', 'wb') as f:\n",
    "    pickle.dump(cl_2pts, f)"
   ]
  },
  {
   "cell_type": "code",
   "execution_count": null,
   "id": "ead210b9-bae2-4f7b-9b35-c3dc10fddb67",
   "metadata": {},
   "outputs": [],
   "source": []
  }
 ],
 "metadata": {
  "kernelspec": {
   "display_name": "dr6plus_ice1",
   "language": "python",
   "name": "dr6plus_ice1"
  },
  "language_info": {
   "codemirror_mode": {
    "name": "ipython",
    "version": 3
   },
   "file_extension": ".py",
   "mimetype": "text/x-python",
   "name": "python",
   "nbconvert_exporter": "python",
   "pygments_lexer": "ipython3",
   "version": "3.8.18"
  }
 },
 "nbformat": 4,
 "nbformat_minor": 5
}
